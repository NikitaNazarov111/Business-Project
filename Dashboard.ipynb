{
  "nbformat": 4,
  "nbformat_minor": 0,
  "metadata": {
    "colab": {
      "provenance": []
    },
    "kernelspec": {
      "name": "python3",
      "display_name": "Python 3"
    },
    "language_info": {
      "name": "python"
    }
  },
  "cells": [
    {
      "cell_type": "code",
      "source": [
        "! pip install --upgrade plotly\n",
        "! pip install dash-bootstrap-components"
      ],
      "metadata": {
        "colab": {
          "base_uri": "https://localhost:8080/"
        },
        "id": "sNeTPkDGgBly",
        "outputId": "60ed0549-5c66-480a-c5ef-9749fa223209"
      },
      "execution_count": null,
      "outputs": [
        {
          "output_type": "stream",
          "name": "stdout",
          "text": [
            "Requirement already satisfied: plotly in /usr/local/lib/python3.11/dist-packages (6.0.1)\n",
            "Requirement already satisfied: narwhals>=1.15.1 in /usr/local/lib/python3.11/dist-packages (from plotly) (1.31.0)\n",
            "Requirement already satisfied: packaging in /usr/local/lib/python3.11/dist-packages (from plotly) (24.2)\n",
            "Requirement already satisfied: dash-bootstrap-components in /usr/local/lib/python3.11/dist-packages (2.0.0)\n",
            "Requirement already satisfied: dash>=3.0.0 in /usr/local/lib/python3.11/dist-packages (from dash-bootstrap-components) (3.0.0)\n",
            "Requirement already satisfied: Flask<3.1,>=1.0.4 in /usr/local/lib/python3.11/dist-packages (from dash>=3.0.0->dash-bootstrap-components) (3.0.3)\n",
            "Requirement already satisfied: Werkzeug<3.1 in /usr/local/lib/python3.11/dist-packages (from dash>=3.0.0->dash-bootstrap-components) (3.0.6)\n",
            "Requirement already satisfied: plotly>=5.0.0 in /usr/local/lib/python3.11/dist-packages (from dash>=3.0.0->dash-bootstrap-components) (6.0.1)\n",
            "Requirement already satisfied: importlib-metadata in /usr/local/lib/python3.11/dist-packages (from dash>=3.0.0->dash-bootstrap-components) (8.6.1)\n",
            "Requirement already satisfied: typing-extensions>=4.1.1 in /usr/local/lib/python3.11/dist-packages (from dash>=3.0.0->dash-bootstrap-components) (4.12.2)\n",
            "Requirement already satisfied: requests in /usr/local/lib/python3.11/dist-packages (from dash>=3.0.0->dash-bootstrap-components) (2.32.3)\n",
            "Requirement already satisfied: retrying in /usr/local/lib/python3.11/dist-packages (from dash>=3.0.0->dash-bootstrap-components) (1.3.4)\n",
            "Requirement already satisfied: nest-asyncio in /usr/local/lib/python3.11/dist-packages (from dash>=3.0.0->dash-bootstrap-components) (1.6.0)\n",
            "Requirement already satisfied: setuptools in /usr/local/lib/python3.11/dist-packages (from dash>=3.0.0->dash-bootstrap-components) (75.1.0)\n",
            "Requirement already satisfied: stringcase>=1.2.0 in /usr/local/lib/python3.11/dist-packages (from dash>=3.0.0->dash-bootstrap-components) (1.2.0)\n",
            "Requirement already satisfied: Jinja2>=3.1.2 in /usr/local/lib/python3.11/dist-packages (from Flask<3.1,>=1.0.4->dash>=3.0.0->dash-bootstrap-components) (3.1.6)\n",
            "Requirement already satisfied: itsdangerous>=2.1.2 in /usr/local/lib/python3.11/dist-packages (from Flask<3.1,>=1.0.4->dash>=3.0.0->dash-bootstrap-components) (2.2.0)\n",
            "Requirement already satisfied: click>=8.1.3 in /usr/local/lib/python3.11/dist-packages (from Flask<3.1,>=1.0.4->dash>=3.0.0->dash-bootstrap-components) (8.1.8)\n",
            "Requirement already satisfied: blinker>=1.6.2 in /usr/local/lib/python3.11/dist-packages (from Flask<3.1,>=1.0.4->dash>=3.0.0->dash-bootstrap-components) (1.9.0)\n",
            "Requirement already satisfied: narwhals>=1.15.1 in /usr/local/lib/python3.11/dist-packages (from plotly>=5.0.0->dash>=3.0.0->dash-bootstrap-components) (1.31.0)\n",
            "Requirement already satisfied: packaging in /usr/local/lib/python3.11/dist-packages (from plotly>=5.0.0->dash>=3.0.0->dash-bootstrap-components) (24.2)\n",
            "Requirement already satisfied: MarkupSafe>=2.1.1 in /usr/local/lib/python3.11/dist-packages (from Werkzeug<3.1->dash>=3.0.0->dash-bootstrap-components) (3.0.2)\n",
            "Requirement already satisfied: zipp>=3.20 in /usr/local/lib/python3.11/dist-packages (from importlib-metadata->dash>=3.0.0->dash-bootstrap-components) (3.21.0)\n",
            "Requirement already satisfied: charset-normalizer<4,>=2 in /usr/local/lib/python3.11/dist-packages (from requests->dash>=3.0.0->dash-bootstrap-components) (3.4.1)\n",
            "Requirement already satisfied: idna<4,>=2.5 in /usr/local/lib/python3.11/dist-packages (from requests->dash>=3.0.0->dash-bootstrap-components) (3.10)\n",
            "Requirement already satisfied: urllib3<3,>=1.21.1 in /usr/local/lib/python3.11/dist-packages (from requests->dash>=3.0.0->dash-bootstrap-components) (2.3.0)\n",
            "Requirement already satisfied: certifi>=2017.4.17 in /usr/local/lib/python3.11/dist-packages (from requests->dash>=3.0.0->dash-bootstrap-components) (2025.1.31)\n",
            "Requirement already satisfied: six>=1.7.0 in /usr/local/lib/python3.11/dist-packages (from retrying->dash>=3.0.0->dash-bootstrap-components) (1.17.0)\n"
          ]
        }
      ]
    },
    {
      "cell_type": "code",
      "execution_count": null,
      "metadata": {
        "id": "0oZMVHjke4dW"
      },
      "outputs": [],
      "source": [
        "import pandas as pd\n",
        "import numpy as np\n",
        "import dash\n",
        "from dash import Dash, html, dcc, Input, Output\n",
        "import plotly.express as px\n",
        "import pandas as pd\n",
        "import dash_bootstrap_components as dbc\n",
        "\n",
        "!wget  -O 'all_books_data.csv' -q 'https://www.dropbox.com/scl/fi/h7qw4wfeubg4xpr7j8q2f/all_books_data.csv?rlkey=fa9ksq0jcuk55h6i3sq9zqkri&st=shtgb1ca&dl=0'\n",
        "!wget  -O 'filtered_children_authors_data.csv' -q 'https://www.dropbox.com/scl/fi/e5joclay3mtln2pzptn62/filtered_children_authors_data.csv?rlkey=aj4ewx9520x5z618gtb8aj4pq&st=bsn0wf12&dl=0'\n",
        "!wget  -O 'filtered_adult_authors_data.csv' -q 'https://www.dropbox.com/scl/fi/9jp1nluwguj1m9qhmwijc/filtered_adult_authors_data.csv?rlkey=hjv1anb6tdy9tu0gf1i174tao&st=och0vkx8&dl=0'"
      ]
    },
    {
      "cell_type": "code",
      "source": [
        "df = pd.read_csv('all_books_data.csv')\n",
        "filtered_children_authors = pd.read_csv('filtered_children_authors_data.csv')\n",
        "filtered_adult_authors = pd.read_csv('filtered_adult_authors_data.csv')"
      ],
      "metadata": {
        "id": "2mfS5LddfSYJ"
      },
      "execution_count": null,
      "outputs": []
    },
    {
      "cell_type": "code",
      "source": [
        "app = Dash(__name__)\n",
        "\n",
        "app.layout = html.Div([\n",
        "    html.H1('Анализ контрагентов'),\n",
        "    html.H2('Выбери категорию, для которой хочешь узнать распределение цен на книги:'),\n",
        "    dcc.Dropdown(\n",
        "          id='graph1-dropdown',\n",
        "          options=[\n",
        "              {'label': 'Взрослые', 'value': 'Взрослые'},\n",
        "              {'label': 'Дети и подростки', 'value': 'Дети и подростки'}\n",
        "          ],\n",
        "          value='Взрослые'\n",
        "    ),\n",
        "    dcc.Graph(id='histogram1'),\n",
        "    html.H2('Выбери издательство, для которого хочешь узнать распределение цен на книги:'),\n",
        "    dcc.Dropdown(\n",
        "        id='graph2-dropdown',\n",
        "        options=[\n",
        "              {'label': 'Самокат', 'value': 'Самокат'},\n",
        "              {'label': 'Эксмо', 'value': 'Эксмо'},\n",
        "              {'label': 'АСТ', 'value': 'АСТ'}\n",
        "          ],\n",
        "          value='Самокат'\n",
        "    ),\n",
        "    dcc.Graph(id='histogram2'),\n",
        "    dcc.Graph(id='box_plot'),\n",
        "    html.H2('Выбери категорию, для которой хочешь узнать распределение количества книг по авторам:'),\n",
        "    dcc.Dropdown(\n",
        "        id='graph3-dropdown',\n",
        "        options=[\n",
        "            {'label': 'Взрослые', 'value': 'Взрослые'},\n",
        "            {'label': 'Дети и подростки', 'value': 'Дети и подростки'}\n",
        "        ],\n",
        "        value='Взрослые'\n",
        "    ),\n",
        "    dcc.Graph(id='pie_chart'),\n",
        "    dcc.Graph(id='scatter_plot')\n",
        "])\n",
        "\n",
        "@app.callback(\n",
        "  [Output('histogram1', 'figure'),\n",
        "   Output('histogram2', 'figure'),\n",
        "   Output('box_plot', 'figure'),\n",
        "   Output('pie_chart', 'figure'),\n",
        "   Output('scatter_plot', 'figure')],\n",
        "  [Input('graph1-dropdown', 'value'),\n",
        "   Input('graph2-dropdown', 'value'),\n",
        "   Input('graph3-dropdown', 'value')]\n",
        ")\n",
        "def update_chart(hist1_category, hist2_category, pie_category):\n",
        "  if hist1_category == 'Взрослые':\n",
        "    fig_1 = px.histogram(df[df['Категория'] == 'adult'], x='Цена',\n",
        "                    title='Распределение цен на книги для взрослых',\n",
        "                    labels={'Цена': 'Цена (руб)', 'Категория': 'Категория книги'})\n",
        "\n",
        "    fig_1.update_traces(marker_color='#C68EFD')\n",
        "    fig_1.update_layout(bargap=0.2)\n",
        "    fig_1.update_layout(title_x=0.5)\n",
        "  elif hist1_category == 'Дети и подростки':\n",
        "    fig_1 = px.histogram(df[df['Категория'] == 'children'], x='Цена',\n",
        "                   title='Распределение цен на книги для детей и подростков',\n",
        "                   labels={'Цена': 'Цена (руб)', 'Категория': 'Категория книги'})\n",
        "\n",
        "    fig_1.update_traces(marker_color='#EB5A3C')\n",
        "    fig_1.update_layout(bargap=0.2)\n",
        "    fig_1.update_layout(title_x=0.5)\n",
        "\n",
        "  if hist2_category == 'Самокат':\n",
        "    fig_2 = px.histogram(df[df['Издательство'] == 'Самокат'], x='Цена',\n",
        "                   title='Распределение цен на книги издательства \"Самокат\"',\n",
        "                   labels={'Цена': 'Цена (руб)', 'Категория': 'Категория книги'})\n",
        "\n",
        "    fig_2.update_traces(marker_color='#00FF9C')\n",
        "    fig_2.update_layout(bargap=0.2)\n",
        "    fig_2.update_layout(title_x=0.5)\n",
        "  elif hist2_category == 'Эксмо':\n",
        "    fig_2 = px.histogram(df[df['Издательство'] == 'Эксмо'], x='Цена',\n",
        "                   title='Распределение цен на книги издательства \"Эксмо\"',\n",
        "                   labels={'Цена': 'Цена (руб)', 'Категория': 'Категория книги'})\n",
        "\n",
        "    fig_2.update_traces(marker_color='#FCCD2A')\n",
        "    fig_2.update_layout(bargap=0.2)\n",
        "    fig_2.update_layout(title_x=0.5)\n",
        "  elif hist2_category == 'АСТ':\n",
        "    fig_2 = px.histogram(df[df['Издательство'] == 'АСТ'], x='Цена',\n",
        "                   title='Распределение цен на книги издательства \"АСТ\"',\n",
        "                   labels={'Цена': 'Цена (руб)', 'Категория': 'Категория книги'})\n",
        "\n",
        "    fig_2.update_traces(marker_color='#FF70AB')\n",
        "    fig_2.update_layout(bargap=0.2)\n",
        "    fig_2.update_layout(title_x=0.5)\n",
        "\n",
        "  fig_3 = px.box(df, x='Издательство', y='Цена', color='Категория',\n",
        "             title='Распределение цен по издательствам в разных категориях',\n",
        "             labels={'Цена': 'Цена (руб)', 'Издательство': 'Издательство', 'Категория': 'Категория'},\n",
        "             hover_data=['Название'])\n",
        "  fig_3.update_layout(title_x=0.5)\n",
        "\n",
        "  if pie_category == 'Взрослые':\n",
        "    fig_4 = px.pie(filtered_adult_authors, values='Количество книг', names='Автор',\n",
        "             title='Распределение количества книг для взрослых по авторам',\n",
        "             custom_data=['Список книг'])\n",
        "\n",
        "    fig_4.update_traces(\n",
        "        hovertemplate='<b>Автор:</b> %{label}<br><b>Количество книг:</b> %{value}<br><b>Список книг:</b> %{customdata[0]}<extra></extra>',\n",
        "        textposition='inside',\n",
        "        textinfo='percent+label'\n",
        "    )\n",
        "\n",
        "    fig_4.update_layout(title_x=0.5, height=1150)\n",
        "  elif pie_category == 'Дети и подростки':\n",
        "    fig_4 = px.pie(filtered_children_authors, values='Количество книг', names='Автор',\n",
        "             title='Распределение количества книг для детей и подростков по авторам',\n",
        "             custom_data=['Список книг'])\n",
        "\n",
        "    fig_4.update_traces(\n",
        "        hovertemplate='<b>Автор:</b> %{label}<br><b>Количество книг:</b> %{value}<br><b>Список книг:</b> %{customdata[0]}<extra></extra>',\n",
        "        textposition='inside',\n",
        "        textinfo='percent+label'\n",
        "    )\n",
        "\n",
        "    fig_4.update_layout(title_x=0.5)\n",
        "\n",
        "  fig_5 = px.scatter(df, x='Автор', y='Цена', color='Издательство',\n",
        "                 title=\"Цены на книги по авторам\",\n",
        "                 labels={'Название': 'Название', 'Цена': 'Цена (руб)', 'Автор': 'Автор'},\n",
        "                 hover_data=['Название'])\n",
        "  fig_5.update_layout(title_x=0.5, height=500)\n",
        "\n",
        "  return fig_1, fig_2, fig_3, fig_4, fig_5\n",
        "\n",
        "if __name__ == '__main__':\n",
        "  app.run(debug=True)"
      ],
      "metadata": {
        "colab": {
          "base_uri": "https://localhost:8080/",
          "height": 671
        },
        "id": "2Ao02Za1f9RL",
        "outputId": "5afe949c-e25d-4edd-90f8-86bf28fef4b0"
      },
      "execution_count": 25,
      "outputs": [
        {
          "output_type": "display_data",
          "data": {
            "text/plain": [
              "<IPython.core.display.Javascript object>"
            ],
            "application/javascript": [
              "(async (port, path, width, height, cache, element) => {\n",
              "    if (!google.colab.kernel.accessAllowed && !cache) {\n",
              "      return;\n",
              "    }\n",
              "    element.appendChild(document.createTextNode(''));\n",
              "    const url = await google.colab.kernel.proxyPort(port, {cache});\n",
              "    const iframe = document.createElement('iframe');\n",
              "    iframe.src = new URL(path, url).toString();\n",
              "    iframe.height = height;\n",
              "    iframe.width = width;\n",
              "    iframe.style.border = 0;\n",
              "    iframe.allow = [\n",
              "        'accelerometer',\n",
              "        'autoplay',\n",
              "        'camera',\n",
              "        'clipboard-read',\n",
              "        'clipboard-write',\n",
              "        'gyroscope',\n",
              "        'magnetometer',\n",
              "        'microphone',\n",
              "        'serial',\n",
              "        'usb',\n",
              "        'xr-spatial-tracking',\n",
              "    ].join('; ');\n",
              "    element.appendChild(iframe);\n",
              "  })(8050, \"/\", \"100%\", 650, false, window.element)"
            ]
          },
          "metadata": {}
        }
      ]
    }
  ]
}