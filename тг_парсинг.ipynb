{
  "nbformat": 4,
  "nbformat_minor": 0,
  "metadata": {
    "colab": {
      "provenance": []
    },
    "kernelspec": {
      "name": "python3",
      "display_name": "Python 3"
    },
    "language_info": {
      "name": "python"
    }
  },
  "cells": [
    {
      "cell_type": "code",
      "execution_count": 13,
      "metadata": {
        "id": "gng7vRB79rhC",
        "colab": {
          "base_uri": "https://localhost:8080/"
        },
        "outputId": "b2f51028-4d16-44f5-da76-0f2c646de058"
      },
      "outputs": [
        {
          "output_type": "stream",
          "name": "stdout",
          "text": [
            "Requirement already satisfied: telethon in /usr/local/lib/python3.11/dist-packages (1.39.0)\n",
            "Requirement already satisfied: pyaes in /usr/local/lib/python3.11/dist-packages (from telethon) (1.6.1)\n",
            "Requirement already satisfied: rsa in /usr/local/lib/python3.11/dist-packages (from telethon) (4.9)\n",
            "Requirement already satisfied: pyasn1>=0.1.3 in /usr/local/lib/python3.11/dist-packages (from rsa->telethon) (0.6.1)\n"
          ]
        }
      ],
      "source": [
        "pip install telethon"
      ]
    },
    {
      "cell_type": "code",
      "source": [
        "import asyncio\n",
        "from telethon import TelegramClient\n",
        "import re\n",
        "import pandas as pd\n",
        "\n",
        "api_id = ''\n",
        "api_hash = ''\n",
        "channel_username = '@fantasy_jedi'\n",
        "\n",
        "year_pattern = re.compile(\n",
        "    r'(?:год рождения|г\\.р\\.?|родился в|р\\.)\\s*(\\d{4})|\\b(19\\d{2}|20[0-2]\\d)\\b',\n",
        "    re.IGNORECASE\n",
        ")\n",
        "\n",
        "async def parse_users():\n",
        "    data = []\n",
        "    async with TelegramClient('session_name', api_id, api_hash) as client:\n",
        "        async for message in client.iter_messages(channel_username, limit=2000):\n",
        "            if not message.sender:\n",
        "                continue\n",
        "\n",
        "                try:\n",
        "                    user = await client.get_entity(message.sender.id)\n",
        "                    full_user = await client.get_full_user(user.id)\n",
        "                except Exception as e:\n",
        "                    print('Unknown')\n",
        "                    continue\n",
        "\n",
        "                bio = getattr(full_user, 'about', '') if full_user else ''\n",
        "                match = year_pattern.search(bio)\n",
        "                year = (match.group(1) or match.group(2)) if match else None\n",
        "\n",
        "                if year:\n",
        "                    data.append({\n",
        "                        \"first_name\": user.first_name or \"\",\n",
        "                        \"last_name\": user.last_name or \"\",\n",
        "                        \"username\": user.username or \"\",\n",
        "                        \"year\": year\n",
        "                    })\n",
        "\n",
        "        df = pd.DataFrame(data)\n",
        "        print(df)\n",
        "\n",
        "await parse_users()"
      ],
      "metadata": {
        "colab": {
          "base_uri": "https://localhost:8080/"
        },
        "id": "yWLcK1ZHMcmH",
        "outputId": "4bfd5341-547b-4c63-b388-f123166d0878"
      },
      "execution_count": 14,
      "outputs": [
        {
          "output_type": "stream",
          "name": "stdout",
          "text": [
            "Empty DataFrame\n",
            "Columns: []\n",
            "Index: []\n"
          ]
        }
      ]
    },
    {
      "cell_type": "code",
      "source": [
        "year_pattern = re.compile(r'(?:^|[^0-9])(19\\d{2}|20[0-2]\\d)(?:$|[^0-9])')\n",
        "\n",
        "async def parse_users():\n",
        "    data2 = []\n",
        "    async with TelegramClient('session_name', api_id, api_hash) as client:\n",
        "        async for message in client.iter_messages(channel_username, limit=2000):\n",
        "            if not message.sender:\n",
        "                continue\n",
        "\n",
        "            user = message.sender\n",
        "            username = user.username or \"\"\n",
        "\n",
        "            match = year_pattern.search(username)\n",
        "            if match:\n",
        "                year = match.group(1)\n",
        "                data2.append({\n",
        "                    \"username\": f\"@{username}\",\n",
        "                    \"year\": year,\n",
        "                })\n",
        "\n",
        "    df2 = pd.DataFrame(data2)\n",
        "    print(df2)\n",
        "\n",
        "await parse_users()"
      ],
      "metadata": {
        "colab": {
          "base_uri": "https://localhost:8080/"
        },
        "id": "eWNtaWu_d8x9",
        "outputId": "a39816f7-cfa5-455e-accd-dbf99e884928"
      },
      "execution_count": 15,
      "outputs": [
        {
          "output_type": "stream",
          "name": "stdout",
          "text": [
            "Empty DataFrame\n",
            "Columns: []\n",
            "Index: []\n"
          ]
        }
      ]
    }
  ]
}